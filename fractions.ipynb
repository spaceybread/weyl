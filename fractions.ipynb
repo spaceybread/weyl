{
 "cells": [
  {
   "cell_type": "markdown",
   "id": "0c0f0021-c9d8-49a0-aa5f-8768d11be18a",
   "metadata": {},
   "source": [
    "### With Fractions! (Ansh - Feb 24, 2025)\n",
    "After the meeting on Monday, Feb 24, I looked into using ```Fractions``` in Python. Here's what the updated script looks like: "
   ]
  },
  {
   "cell_type": "code",
   "execution_count": 3,
   "id": "b7aad0a4-27fe-4002-983a-bf791a69062e",
   "metadata": {},
   "outputs": [
    {
     "name": "stdout",
     "output_type": "stream",
     "text": [
      "7/5 at 6 with 2/5\n",
      "141/100 at 101 with 41/100\n",
      "707/500 at 501 with 207/500\n",
      "7071/5000 at 5001 with 2071/5000\n",
      "141421/100000 at 100001 with 41421/100000\n",
      "1414213/1000000 at 1000001 with 414213/1000000\n",
      "2828427/2000000 at 2000001 with 828427/2000000\n",
      "35355339/25000000 at 25000001 with 10355339/25000000\n"
     ]
    },
    {
     "data": {
      "text/plain": [
       "25000001"
      ]
     },
     "execution_count": 3,
     "metadata": {},
     "output_type": "execute_result"
    }
   ],
   "source": [
    "from fractions import Fraction\n",
    "\n",
    "def f(a):\n",
    "    a = Fraction(a)\n",
    "    i, s = 1, set()\n",
    "\n",
    "    while True:\n",
    "        t = (a * i) % 1\n",
    "        if t in s: break\n",
    "        s.add(t)\n",
    "        i += 1\n",
    "\n",
    "    print(a, \"at\", i, \"with\", t)\n",
    "    return i\n",
    "\n",
    "f(Fraction(14, 10))\n",
    "f(Fraction(141, 100))\n",
    "f(Fraction(1414, 1000))\n",
    "f(Fraction(14142, 10000))\n",
    "f(Fraction(141421, 100000))\n",
    "f(Fraction(1414213, 1000000))\n",
    "f(Fraction(14142135, 10000000))\n",
    "f(Fraction(141421356, 100000000))\n"
   ]
  },
  {
   "cell_type": "markdown",
   "id": "bca90589-a1f9-4c98-aa24-80e52961e56a",
   "metadata": {},
   "source": [
    "The value of $k$ where $ak \\equiv_1 a$ is always $q + 1$ where $a = \\frac{p}{q}$ and $\\gcd(p, q) = 1$. This is trivial to show: $(q + 1) \\cdot \\frac{p}{q} = p + \\frac{p}{q} \\equiv_1 \\frac{p}{q}$ because $p \\in \\mathbb{Z}$ "
   ]
  },
  {
   "cell_type": "code",
   "execution_count": 4,
   "id": "156a3225-c5a1-4fdf-acea-bbc10f32b812",
   "metadata": {},
   "outputs": [
    {
     "name": "stdout",
     "output_type": "stream",
     "text": [
      "1 at 2 with 0\n",
      "1 at 2 with 0\n",
      "7/5 at 6 with 2/5\n",
      "141/100 at 101 with 41/100\n",
      "707/500 at 501 with 207/500\n",
      "7071/5000 at 5001 with 2071/5000\n",
      "141421/100000 at 100001 with 41421/100000\n",
      "1414213/1000000 at 1000001 with 414213/1000000\n",
      "2828427/2000000 at 2000001 with 828427/2000000\n",
      "35355339/25000000 at 25000001 with 10355339/25000000\n"
     ]
    },
    {
     "data": {
      "text/plain": [
       "[2, 2, 6, 101, 501, 5001, 100001, 1000001, 2000001, 25000001]"
      ]
     },
     "execution_count": 4,
     "metadata": {},
     "output_type": "execute_result"
    }
   ],
   "source": [
    "from fractions import Fraction\n",
    "\n",
    "def f(a):\n",
    "    a = Fraction(a)\n",
    "    i, s = 1, set()\n",
    "\n",
    "    while True:\n",
    "        t = (a * i) % 1\n",
    "        if t in s:\n",
    "            break\n",
    "        s.add(t)\n",
    "        i += 1\n",
    "\n",
    "    print(a, \"at\", i, \"with\", t)\n",
    "    return i\n",
    "\n",
    "def process_string_fraction(s):\n",
    "    results = []\n",
    "    for i in range(1, len(s) + 1):\n",
    "        if s[:i].count('.') > 1:\n",
    "            break\n",
    "        frac = Fraction(s[:i])\n",
    "        results.append(f(frac))\n",
    "    return results\n",
    "\n",
    "process_string_fraction(\"1.41421356\")\n"
   ]
  },
  {
   "cell_type": "markdown",
   "id": "cd9f9eb6-e739-478a-be42-82265077bfa6",
   "metadata": {},
   "source": [
    "Again, from what I can tell, this is not a sequence on OEIS but at least it looks nicer than the sequence I had before for $\\sqrt{2}$. Note: this current script takes longer to run because of ```Fraction``` so I didn't bother going for the largest values with the iterative appraoch. Given the lemma(?) before about $k = q + 1$ where $q$ is the denominator, I verified the result with the following script: "
   ]
  },
  {
   "cell_type": "code",
   "execution_count": 8,
   "id": "afa36827-1963-4ae0-afd3-d29687543ee0",
   "metadata": {},
   "outputs": [
    {
     "data": {
      "text/plain": [
       "[True, True, True]"
      ]
     },
     "execution_count": 8,
     "metadata": {},
     "output_type": "execute_result"
    }
   ],
   "source": [
    "def ver_f(a):\n",
    "    a = Fraction(a)\n",
    "    q = a.denominator\n",
    "    if (q + 1) * a % 1 == a % 1: return True\n",
    "    return False\n",
    "\n",
    "res = [\n",
    "ver_f(Fraction(1414213562, 100000000)),\n",
    "ver_f(Fraction(14142135623, 1000000000)),\n",
    "ver_f(Fraction(141421356237, 10000000000))]\n",
    "\n",
    "res"
   ]
  },
  {
   "cell_type": "markdown",
   "id": "70704a23-5c3c-4caf-a679-cc90b0d1ded2",
   "metadata": {},
   "source": [
    "Now, as far as I know linear congruential generators, they're structured like: $$X_{n + 1} \\equiv_m a \\cdot X_n + c$$ This also neccesarily repeats with a period of $m - 1$ if $c = 0$ or a period of $m$ if some other conditions are met. The 'generator' that I have (where $a = \\frac{p}{q}$, thus rational) is set up as: $$X_{k} \\equiv_1 k \\cdot \\frac{p}{q} \\iff q \\cdot X_{k} \\equiv_1 k \\cdot p$$ with a period of $q + 1$. "
   ]
  }
 ],
 "metadata": {
  "kernelspec": {
   "display_name": "Python 3 (ipykernel)",
   "language": "python",
   "name": "python3"
  },
  "language_info": {
   "codemirror_mode": {
    "name": "ipython",
    "version": 3
   },
   "file_extension": ".py",
   "mimetype": "text/x-python",
   "name": "python",
   "nbconvert_exporter": "python",
   "pygments_lexer": "ipython3",
   "version": "3.13.0"
  }
 },
 "nbformat": 4,
 "nbformat_minor": 5
}
